{
 "cells": [
  {
   "cell_type": "markdown",
   "metadata": {},
   "source": [
    "# Exercicios\n",
    "\n",
    "Esses exercícios foram tirados de diferentes fontes :)"
   ]
  },
  {
   "cell_type": "markdown",
   "metadata": {},
   "source": [
    "1\\. Aplique a análise que você fez no notebook da aula no csv: `Test3classes.csv`\n",
    "\n",
    "Qual o resultado que você obteve? "
   ]
  },
  {
   "cell_type": "markdown",
   "metadata": {},
   "source": [
    "2\\. (Retirado do curso do fastai) n-grams are an important NLP concept.  An n-gram is a contiguous sequence of n items (where the items can be characters, syllables, or words).  Here, we  A 1-gram is a unigram, a 2-gram is a bigram, and a 3-gram is a trigram.\n",
    "\n",
    "Here, we are referring to sequences of words. The sentence \"It was a bright cold day in April.\" contains the following trigrams:\n",
    "\n",
    "- It was a\n",
    "- was a bright\n",
    "- a bright cold\n",
    "- bright cold day\n",
    "- cold day in\n",
    "- day in April\n",
    "\n",
    "Write a function that returns a dictionary with the n-grams of a text (for `min_n <= n <= max_n`) and a count of how often they appear:"
   ]
  },
  {
   "cell_type": "code",
   "execution_count": null,
   "metadata": {},
   "outputs": [],
   "source": [
    "def get_ngrams(text, min_n, max_n):  \n",
    "    #Exercise: FILL IN METHOD\n",
    "    \n",
    "    return n_gram_dict"
   ]
  },
  {
   "cell_type": "markdown",
   "metadata": {},
   "source": [
    "3\\. (fastai) Write a method that given a list of strings (you can think of each string as a document), returns a dictionary for each string, where the keys are the vocabulary words, and the values are the frequencies."
   ]
  },
  {
   "cell_type": "code",
   "execution_count": null,
   "metadata": {},
   "outputs": [],
   "source": [
    "def get_vocab_frequency(list_of_strings):\n",
    "\n",
    "    return list_of_dicts"
   ]
  },
  {
   "cell_type": "markdown",
   "metadata": {},
   "source": [
    "4\\. (fastai) Write a method that when given a list of strings (you can think of each string as a document), calculates the TF-IDF, and returns a term-document matrix with the results. It will be useful to use your `get_vocab_frequency` method from problem 3."
   ]
  },
  {
   "cell_type": "code",
   "execution_count": null,
   "metadata": {},
   "outputs": [],
   "source": [
    "def get_tfidf(list_of_strings):\n",
    " \n",
    "    return tfidf"
   ]
  },
  {
   "cell_type": "markdown",
   "metadata": {},
   "source": [
    "5\\. (fastai) Write a method that uses regex:\n",
    "\n",
    "`get_dimensions(\"1280x720\")` should return `1280, 720`"
   ]
  },
  {
   "cell_type": "code",
   "execution_count": null,
   "metadata": {},
   "outputs": [],
   "source": [
    "def get_dimensions(text):\n",
    "    # something with regex\n",
    "    return int(dim1), int(dim2)"
   ]
  },
  {
   "cell_type": "markdown",
   "metadata": {},
   "source": [
    "6\\. (fastai) Use regex to pick out the names of PDFs.\n",
    "\n",
    "`get_pdf_names(\"file_record_transcript.pdf\")` should return `\"file_record_transcript\"`\n",
    "\n",
    "`get_pdf_names(\"testfile_fake.pdf.tmp\")` should return `None`"
   ]
  },
  {
   "cell_type": "code",
   "execution_count": null,
   "metadata": {},
   "outputs": [],
   "source": [
    "def get_pdf_names(text):\n",
    "    # something with regex\n",
    "    \n",
    "    return pdf_name"
   ]
  },
  {
   "cell_type": "markdown",
   "metadata": {},
   "source": [
    "## Kaggle !!\n",
    "\n",
    "Você já está mais do que apto para poder brincar um pouco no Kaggle :)\n",
    "\n",
    "Crie sua conta [aqui](https://www.kaggle.com/account/login?phase=startSignInTab&returnUrl=%2F) e clique neste [link](https://www.kaggle.com/kashnitsky/ridge-and-lightgbm-blending-hacking#Simple-blending) e clique em \"Copy and Edit\" no canto superior direito. Você vai copiar esse notebook para um diretorio seu, de forma que você possa executar os comandos.\n",
    "\n",
    "Leia o notebook atentamente e tente entender o que é feito em cada passo :)\n",
    "\n",
    "Seu desafio é tentar bater o baseline dele (Public score de 1.64080), além de ser uma ótima forma de testar problemas que juntam dados de texto com tabulares !"
   ]
  }
 ],
 "metadata": {
  "kernelspec": {
   "display_name": "Python 3",
   "language": "python",
   "name": "python3"
  },
  "language_info": {
   "codemirror_mode": {
    "name": "ipython",
    "version": 3
   },
   "file_extension": ".py",
   "mimetype": "text/x-python",
   "name": "python",
   "nbconvert_exporter": "python",
   "pygments_lexer": "ipython3",
   "version": "3.6.5"
  },
  "toc": {
   "base_numbering": 1,
   "nav_menu": {},
   "number_sections": true,
   "sideBar": true,
   "skip_h1_title": false,
   "title_cell": "Table of Contents",
   "title_sidebar": "Contents",
   "toc_cell": false,
   "toc_position": {},
   "toc_section_display": true,
   "toc_window_display": false
  }
 },
 "nbformat": 4,
 "nbformat_minor": 2
}
